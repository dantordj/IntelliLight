{
 "cells": [
  {
   "cell_type": "code",
   "execution_count": 5,
   "metadata": {},
   "outputs": [],
   "source": [
    "import sys\n",
    "import os\n",
    "sys.path.append(\n",
    "                os.path.join(os.environ[\"SUMO_HOME\"], \"tools\")\n",
    "            )\n",
    "import traci\n",
    "import traci.constants as tc\n",
    "import time\n",
    "from collections import Counter\n",
    "import xml.etree.ElementTree as ET\n",
    "import numpy as np\n",
    "import math\n",
    "import matplotlib.pyplot as plt\n",
    "\n"
   ]
  },
  {
   "cell_type": "code",
   "execution_count": 6,
   "metadata": {},
   "outputs": [],
   "source": [
    "# vertial lanes start with edge 4 and edge 3\n",
    "area_length=600\n",
    "grid_width = 4\n",
    "listLanes=['edge1-0_0','edge1-0_1','edge1-0_2','edge2-0_0','edge2-0_1','edge2-0_2',\n",
    "                                 'edge3-0_0','edge3-0_1','edge3-0_2','edge4-0_0','edge4-0_1','edge4-0_2']\n",
    "\n",
    "# assgin sumo code to each phase\n",
    "phases = {\n",
    "    \"WGREEN\": \"grrr gGGG grrr gGGG\".replace(\" \", \"\"),\n",
    "    \"NGREEN\": \"gGGG grrr gGGG grrr\".replace(\" \", \"\") \n",
    "    }\n",
    "def get_id_phase(phase):\n",
    "    if phase == phases[\"WGREEN\"]:\n",
    "        return \"WGREEN\"\n",
    "    if phase == phases[\"NGREEN\"]:\n",
    "        return \"NGREEN\""
   ]
  },
  {
   "cell_type": "code",
   "execution_count": 7,
   "metadata": {},
   "outputs": [],
   "source": [
    "\"\"\" Functions to interact with sumo \"\"\"\n",
    "\n",
    "\n",
    "class Vehicles:\n",
    "    initial_speed = 5.0\n",
    "\n",
    "    def __init__(self):\n",
    "        # add what ever you need to maintain\n",
    "        self.id = None\n",
    "        self.speed = None\n",
    "        self.wait_time = None\n",
    "        self.stop_count = None\n",
    "        self.enter_time = None\n",
    "        self.has_read = False\n",
    "        self.first_stop_time = -1\n",
    "        self.entering = True\n",
    "        \n",
    "    \n",
    "def set_traffic_file(sumo_config_file_tmp_name, sumo_config_file_output_name, list_traffic_file_name):\n",
    "        \"\"\" Set the traffic file in the sumo config\"\"\"\n",
    "        # update sumocfg\n",
    "        print(sumo_config_file_tmp_name)\n",
    "        sumo_cfg = ET.parse(sumo_config_file_tmp_name)\n",
    "        config_node = sumo_cfg.getroot()\n",
    "        input_node = config_node.find(\"input\")\n",
    "        for route_files in input_node.findall(\"route-files\"):\n",
    "            input_node.remove(route_files)\n",
    "        input_node.append(\n",
    "            ET.Element(\"route-files\", attrib={\"value\": \",\".join(list_traffic_file_name)}))\n",
    "        sumo_cfg.write(sumo_config_file_output_name)\n",
    "\n",
    "def start_sumo(traffic):\n",
    "    \"\"\" Start sumo, 3 config possibles\"\"\"\n",
    "    trafic_files = {\"alternate\": \"cross.2phases_rou1_switch_rou0.xml\",\n",
    "                    \"equal\": \"cross.2phases_rou01_equal_300s.xml\",\n",
    "                    \"unequal\": \"cross.2phases_rou01_unequal_5_300s.xml\"\n",
    "                   }\n",
    "    file = trafic_files[traffic]\n",
    "    set_traffic_file(\n",
    "        os.path.join('data/one_run', \"cross.sumocfg\"),\n",
    "        os.path.join('data/one_run', \"cross.sumocfg\"),\n",
    "        [file])\n",
    "    sumoCmd = ['/usr/local/bin/sumo', '-c', '/Users/danieltordjman/Documents/MVA/TraficLight/IntelliLight/data/one_run/cross.sumocfg',]\n",
    "    traci.start(sumoCmd)\n",
    "    for i in range(20):\n",
    "        traci.simulationStep()\n",
    "\n",
    "        \n",
    "def get_state_sumo():\n",
    "    \"\"\" Put here what we need to define the state. For now only the number of vehicles by lines\"\"\"\n",
    "    vehicle_roads = Counter()\n",
    "    traci.simulationStep()\n",
    "    vehicle_id_list = traci.vehicle.getIDList()\n",
    "    for vehicle_id in vehicle_id_list:\n",
    "        road_id = traci.vehicle.getRoadID(vehicle_id)\n",
    "        vehicle_roads[road_id] += 1\n",
    "    return vehicle_roads\n",
    "\n",
    "def is_blocked(lane, phase):\n",
    "    \"\"\" return True if the line is blocked\"\"\"\n",
    "    if \"edge3\" in lane and phase == \"WGREEN\":\n",
    "        return True\n",
    "    if \"edge4\" in lane and phase == \"WGREEN\":\n",
    "        return True\n",
    "    if \"edge1\" in lane and phase == \"NGREEN\":\n",
    "        return True\n",
    "    if \"edge2\" in lane and phase == \"NGREEN\":\n",
    "        return True\n",
    "    return False\n",
    "\n",
    "def get_overall_queue_length(listLanes, blocked_only=False):\n",
    "    \"\"\" return queue length, overall or only the blockes lines \"\"\"\n",
    "    overall_queue_length = 0\n",
    "    sumo_phase = traci.trafficlights.getRedYellowGreenState(\"node0\")\n",
    "    phase = get_id_phase(sumo_phase)\n",
    "    for lane in listLanes:\n",
    "\n",
    "        blocked = is_blocked(lane, phase)\n",
    "        if not blocked_only or blocked:\n",
    "            overall_queue_length += traci.lane.getLastStepHaltingNumber(lane)\n",
    "\n",
    "    return overall_queue_length\n",
    "\n",
    "\n",
    "def get_overall_waiting_time(listLanes):\n",
    "    \"\"\" Unused for now\"\"\"\n",
    "    overall_waiting_time = 0\n",
    "    for lane in listLanes:\n",
    "        overall_waiting_time += traci.lane.getWaitingTime(str(lane)) / 60.0\n",
    "    return overall_waiting_time\n",
    "\n",
    "def get_travel_time_duration(vehicle_dict, vehicle_id_list):\n",
    "    \"\"\" Unused for now\"\"\"\n",
    "    travel_time_duration = 0\n",
    "    for vehicle_id in vehicle_id_list:\n",
    "        if (vehicle_id in vehicle_dict.keys()):\n",
    "            travel_time_duration += (traci.simulation.getCurrentTime() / 1000 - vehicle_dict[vehicle_id].enter_time)/60.0\n",
    "    if len(vehicle_id_list) > 0:\n",
    "        return travel_time_duration#/len(vehicle_id_list)\n",
    "    else:\n",
    "        return 0\n",
    "    \n",
    "\n",
    "def get_vehicle_id_entering():\n",
    "    vehicle_id_entering = []\n",
    "    entering_lanes = ['edge1-0_0', 'edge1-0_1', 'edge1-0_2', 'edge2-0_0', 'edge2-0_1', 'edge2-0_2',\n",
    "                     'edge3-0_0', 'edge3-0_1', 'edge3-0_2', 'edge4-0_0', 'edge4-0_1', 'edge4-0_2']\n",
    "\n",
    "    for lane in entering_lanes:\n",
    "        vehicle_id_entering.extend(traci.lane.getLastStepVehicleIDs(lane))\n",
    "\n",
    "    return vehicle_id_entering\n",
    "\n",
    "def update_vehicles_state(dic_vehicles):\n",
    "    \"\"\" Update a dictionnary with vehicles classed based on the current state of the simulation\"\"\"\n",
    "    vehicle_id_list = traci.vehicle.getIDList()\n",
    "    vehicle_id_entering_list = get_vehicle_id_entering()\n",
    "    for vehicle_id in (set(dic_vehicles.keys())-set(vehicle_id_list)):\n",
    "        del(dic_vehicles[vehicle_id])\n",
    "\n",
    "    for vehicle_id in vehicle_id_list:\n",
    "        if (vehicle_id in dic_vehicles.keys()) == False:\n",
    "            vehicle = Vehicles()\n",
    "            vehicle.id = vehicle_id\n",
    "            traci.vehicle.subscribe(vehicle_id, (tc.VAR_LANE_ID, tc.VAR_SPEED))\n",
    "            vehicle.speed = traci.vehicle.getSubscriptionResults(vehicle_id).get(64)\n",
    "            current_sumo_time = traci.simulation.getCurrentTime()/1000\n",
    "            vehicle.enter_time = current_sumo_time\n",
    "            # if it enters and stops at the very first\n",
    "            if (vehicle.speed < 0.1) and (vehicle.first_stop_time == -1):\n",
    "                vehicle.first_stop_time = current_sumo_time\n",
    "            dic_vehicles[vehicle_id] = vehicle\n",
    "        else:\n",
    "            dic_vehicles[vehicle_id].speed = traci.vehicle.getSubscriptionResults(vehicle_id).get(64)\n",
    "            if (dic_vehicles[vehicle_id].speed < 0.1) and (dic_vehicles[vehicle_id].first_stop_time == -1):\n",
    "                dic_vehicles[vehicle_id].first_stop_time = traci.simulation.getCurrentTime()/1000\n",
    "            if (vehicle_id in vehicle_id_entering_list) == False:\n",
    "                dic_vehicles[vehicle_id].entering = False\n",
    "\n",
    "    return dic_vehicles\n",
    "\n"
   ]
  },
  {
   "cell_type": "code",
   "execution_count": 8,
   "metadata": {},
   "outputs": [],
   "source": [
    "\"\"\" Function to plot state of the traffic as an image\"\"\"\n",
    "\n",
    "\n",
    "def vehicle_location_mapper(coordinate, area_length=600, area_width=600):\n",
    "    transformX = math.floor(coordinate[0] / grid_width)\n",
    "    transformY = math.floor((area_length - coordinate[1]) / grid_width)\n",
    "    length_num_grids = int(area_length/grid_width)\n",
    "    transformY = length_num_grids-1 if transformY == length_num_grids else transformY\n",
    "    transformX = length_num_grids-1 if transformX == length_num_grids else transformX\n",
    "    tempTransformTuple = (transformY, transformX)\n",
    "    return tempTransformTuple\n",
    "\n",
    "def plotcurrenttrafic():\n",
    "    \"\"\" Plot the curretn state of the traffic\"\"\"\n",
    "    length_num_grids = int(area_length/grid_width)\n",
    "    mapOfCars = np.zeros((length_num_grids, length_num_grids))\n",
    "\n",
    "    vehicle_id_list = traci.vehicle.getIDList()\n",
    "    for vehicle_id in vehicle_id_list:\n",
    "\n",
    "        vehicle_position = traci.vehicle.getPosition(vehicle_id)  # (double,double),tuple\n",
    "\n",
    "        transform_tuple = vehicle_location_mapper(vehicle_position)  # call the function\n",
    "        mapOfCars[transform_tuple[0], transform_tuple[1]] = 1\n",
    "    plt.imshow(mapOfCars)\n",
    "    plt.show()\n",
    "\n",
    "def plottraffic(N):\n",
    "    \"\"\" Plot evolution of the traffic for N steps without changing the phase\"\"\"\n",
    "    for i in range(N):\n",
    "        length_num_grids = int(area_length/grid_width)\n",
    "        for i in range(10):\n",
    "            traci.simulationStep()\n",
    "        plotcurrenttrafic()\n",
    "        \n",
    "        \n",
    "\n"
   ]
  },
  {
   "cell_type": "code",
   "execution_count": 9,
   "metadata": {},
   "outputs": [
    {
     "name": "stdout",
     "output_type": "stream",
     "text": [
      "data/one_run/cross.sumocfg\n",
      " Retrying in 1 seconds\n"
     ]
    },
    {
     "name": "stderr",
     "output_type": "stream",
     "text": [
      "/Users/danieltordjman/Documents/MVA/TraficLight/IntelliLight/venv/lib/python3.6/site-packages/ipykernel_launcher.py:127: DeprecationWarning: getCurrentTime is deprecated, please use getTime which returns floating point seconds\n",
      "../sumo/tools/traci/domain.py:113: UserWarning: The domain trafficlights is deprecated, use trafficlight instead.\n",
      "  self._name, self._deprecatedFor))  # , DeprecationWarning)\n"
     ]
    },
    {
     "data": {
      "image/png": "[encoded data removed]",
      "text/plain": [
       "<Figure size 432x288 with 1 Axes>"
      ]
     },
     "metadata": {
      "needs_background": "light"
     },
     "output_type": "display_data"
    },
    {
     "name": "stderr",
     "output_type": "stream",
     "text": [
      "/Users/danieltordjman/Documents/MVA/TraficLight/IntelliLight/venv/lib/python3.6/site-packages/ipykernel_launcher.py:136: DeprecationWarning: getCurrentTime is deprecated, please use getTime which returns floating point seconds\n"
     ]
    },
    {
     "name": "stdout",
     "output_type": "stream",
     "text": [
      "-10 Changing state\n"
     ]
    },
    {
     "data": {
      "image/png": "[encoded data removed]",
      "text/plain": [
       "<Figure size 432x288 with 1 Axes>"
      ]
     },
     "metadata": {
      "needs_background": "light"
     },
     "output_type": "display_data"
    },
    {
     "name": "stdout",
     "output_type": "stream",
     "text": [
      "-10 Changing state\n"
     ]
    },
    {
     "data": {
      "image/png": "[encoded data removed]",
      "text/plain": [
       "<Figure size 432x288 with 1 Axes>"
      ]
     },
     "metadata": {
      "needs_background": "light"
     },
     "output_type": "display_data"
    },
    {
     "name": "stdout",
     "output_type": "stream",
     "text": [
      "-10 Changing state\n",
      "-10 Changing state\n"
     ]
    },
    {
     "data": {
      "image/png": "[encoded data removed]",
      "text/plain": [
       "<Figure size 432x288 with 1 Axes>"
      ]
     },
     "metadata": {
      "needs_background": "light"
     },
     "output_type": "display_data"
    },
    {
     "name": "stdout",
     "output_type": "stream",
     "text": [
      "-10 Changing state\n"
     ]
    },
    {
     "data": {
      "image/png": "[encoded data removed]",
      "text/plain": [
       "<Figure size 432x288 with 1 Axes>"
      ]
     },
     "metadata": {
      "needs_background": "light"
     },
     "output_type": "display_data"
    },
    {
     "name": "stdout",
     "output_type": "stream",
     "text": [
      "-10 Changing state\n"
     ]
    },
    {
     "data": {
      "image/png": "[encoded data removed]",
      "text/plain": [
       "<Figure size 432x288 with 1 Axes>"
      ]
     },
     "metadata": {
      "needs_background": "light"
     },
     "output_type": "display_data"
    },
    {
     "name": "stdout",
     "output_type": "stream",
     "text": [
      "-10 Changing state\n",
      "-10 Changing state\n"
     ]
    },
    {
     "data": {
      "image/png": "[encoded data removed]",
      "text/plain": [
       "<Figure size 432x288 with 1 Axes>"
      ]
     },
     "metadata": {
      "needs_background": "light"
     },
     "output_type": "display_data"
    },
    {
     "name": "stdout",
     "output_type": "stream",
     "text": [
      "-10 Changing state\n"
     ]
    },
    {
     "data": {
      "image/png": "[encoded data removed]",
      "text/plain": [
       "<Figure size 432x288 with 1 Axes>"
      ]
     },
     "metadata": {
      "needs_background": "light"
     },
     "output_type": "display_data"
    },
    {
     "name": "stdout",
     "output_type": "stream",
     "text": [
      "-10 Changing state\n"
     ]
    },
    {
     "data": {
      "image/png": "[encoded data removed]",
      "text/plain": [
       "<Figure size 432x288 with 1 Axes>"
      ]
     },
     "metadata": {
      "needs_background": "light"
     },
     "output_type": "display_data"
    },
    {
     "name": "stdout",
     "output_type": "stream",
     "text": [
      "-10 Changing state\n",
      "-10 Changing state\n"
     ]
    },
    {
     "data": {
      "image/png": "[encoded data removed]",
      "text/plain": [
       "<Figure size 432x288 with 1 Axes>"
      ]
     },
     "metadata": {
      "needs_background": "light"
     },
     "output_type": "display_data"
    },
    {
     "name": "stdout",
     "output_type": "stream",
     "text": [
      "-10 Changing state\n"
     ]
    },
    {
     "data": {
      "image/png": "[encoded data removed]",
      "text/plain": [
       "<Figure size 432x288 with 1 Axes>"
      ]
     },
     "metadata": {
      "needs_background": "light"
     },
     "output_type": "display_data"
    },
    {
     "data": {
      "image/png": "[encoded data removed]",
      "text/plain": [
       "<Figure size 432x288 with 1 Axes>"
      ]
     },
     "metadata": {
      "needs_background": "light"
     },
     "output_type": "display_data"
    }
   ],
   "source": [
    "\"\"\" Defintion environement and first definition of policy \"\"\"\n",
    "\n",
    "class sumoEnv():\n",
    "    \n",
    "    def __init__(self):\n",
    "        self.vehicle_dict = {}\n",
    "        self.update_state()\n",
    "    def update_state(self):\n",
    "  \n",
    "        self.state = get_state_sumo()\n",
    "        self.vehicle_dict = update_vehicles_state(self.vehicle_dict)\n",
    "        phase = traci.trafficlights.getRedYellowGreenState(\"node0\")\n",
    "        if phase == phases[\"WGREEN\"]:\n",
    "            self.phase = \"WGREEN\"\n",
    "        else:\n",
    "            self.phase = \"NGREEN\"\n",
    "        \n",
    "    def get_reward(self, blocked_only=True):\n",
    "        queue = get_overall_queue_length(listLanes, blocked_only=blocked_only)\n",
    "     \n",
    "        return -queue \n",
    "        \n",
    "    def take_action(self, change=True):\n",
    "        WGREEN = \"grrr gGGG grrr gGGG\".replace(\" \", \"\")\n",
    "        NGREEN = \"gGGG grrr gGGG grrr\".replace(\" \", \"\")\n",
    "        \n",
    "        if change:\n",
    "            if self.phase == \"WGREEN\":\n",
    "                traci.trafficlights.setRedYellowGreenState(\"node0\", phases['NGREEN'])\n",
    "            else:\n",
    "                traci.trafficlights.setRedYellowGreenState(\"node0\", phases['WGREEN'])\n",
    "                \n",
    "        self.update_state()\n",
    "        return self.get_reward()\n",
    "        \n",
    "        \n",
    "def simple_rule(length_max=10, N=2000):\n",
    "    \"\"\" Try simple rule which change the lights based only on the queue lenght\"\"\"\n",
    "    start_sumo(\"equal\")\n",
    "    env = sumoEnv()\n",
    "    r = env.take_action(change=False)\n",
    "    rewards = []\n",
    "    for i in range(N):\n",
    "        change =  (r <= -length_max)\n",
    "        if change:\n",
    "            print(r, \"Changing state\")\n",
    "\n",
    "        r = env.take_action(change=change)\n",
    "        rewards += [r]\n",
    "        if i % 199 == 0:\n",
    "            plotcurrenttrafic()\n",
    "        \n",
    "    plt.plot(range(N), rewards)\n",
    "    \n",
    "simple_rule()\n",
    "        \n",
    "    \n"
   ]
  },
  {
   "cell_type": "code",
   "execution_count": null,
   "metadata": {},
   "outputs": [],
   "source": []
  }
 ],
 "metadata": {
  "kernelspec": {
   "display_name": "Python 3",
   "language": "python",
   "name": "python3"
  }
 },
 "nbformat": 4,
 "nbformat_minor": 2
}
